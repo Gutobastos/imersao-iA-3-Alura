{
  "nbformat": 4,
  "nbformat_minor": 0,
  "metadata": {
    "colab": {
      "provenance": [],
      "include_colab_link": true
    },
    "kernelspec": {
      "name": "python3",
      "display_name": "Python 3"
    },
    "language_info": {
      "name": "python"
    }
  },
  "cells": [
    {
      "cell_type": "markdown",
      "metadata": {
        "id": "view-in-github",
        "colab_type": "text"
      },
      "source": [
        "<a href=\"https://colab.research.google.com/github/Gutobastos/imersao-iA-3-Alura/blob/main/Imers%C3%A3o_IA_Alura_%2B_Google_Gemini_Aula_05_Agentes.ipynb\" target=\"_parent\"><img src=\"https://colab.research.google.com/assets/colab-badge.svg\" alt=\"Open In Colab\"/></a>"
      ]
    },
    {
      "cell_type": "code",
      "source": [
        "%pip -q install google-genai"
      ],
      "metadata": {
        "id": "UCCbECexLk_h"
      },
      "execution_count": null,
      "outputs": []
    },
    {
      "cell_type": "code",
      "source": [
        "# Configura a API Key do Google Gemini\n",
        "\n",
        "import os\n",
        "from google.colab import userdata\n",
        "\n",
        "os.environ[\"GOOGLE_API_KEY\"] = userdata.get('GOOGLE_API_KEY')"
      ],
      "metadata": {
        "id": "NfCqHo1tLk8P"
      },
      "execution_count": 2,
      "outputs": []
    },
    {
      "cell_type": "code",
      "source": [
        "# Configura o cliente da SDK do Gemini\n",
        "\n",
        "from google import genai\n",
        "\n",
        "client = genai.Client()\n",
        "\n",
        "MODEL_ID = \"gemini-2.0-flash\""
      ],
      "metadata": {
        "id": "bV4w0H5TLk5g"
      },
      "execution_count": 3,
      "outputs": []
    },
    {
      "cell_type": "code",
      "source": [
        "# Pergunta ao Gemini uma informação mais recente que seu conhecimento\n",
        "\n",
        "from IPython.display import HTML, Markdown\n",
        "\n",
        "# Perguntar pro modelo quando é a próxima imersão de IA ###############################################\n",
        "resposta = client.models.generate_content(\n",
        "    model = MODEL_ID,\n",
        "    contents = \"Quando é a próxima imersão IA com Google Gemini da Alura?\"\n",
        ")\n",
        "\n",
        "\n",
        "# Exibe a resposta na tela\n",
        "display(Markdown(f\"Resposta:\\n {resposta.text}\"))"
      ],
      "metadata": {
        "id": "HwVP7Xi34Zuw"
      },
      "execution_count": null,
      "outputs": []
    },
    {
      "cell_type": "code",
      "source": [
        "# Pergunta ao Gemini uma informação utilizando a busca do Google como contexto\n",
        "\n",
        "response = client.models.generate_content(\n",
        "    model=MODEL_ID,\n",
        "    contents='Quando é a próxima Imersão IA com Google Gemini da Alura?',\n",
        "    config = {\"tools\": [{\"google_search\":{}}]}\n",
        ")\n",
        "\n",
        "# Exibe a resposta na tela\n",
        "display(Markdown(f\"Resposta:\\n {response.text}\"))"
      ],
      "metadata": {
        "id": "yXaZd7iZ4ftw",
        "colab": {
          "base_uri": "https://localhost:8080/",
          "height": 64
        },
        "outputId": "ed34db07-dbeb-4af1-96b1-4ddaefae2189"
      },
      "execution_count": 8,
      "outputs": [
        {
          "output_type": "display_data",
          "data": {
            "text/plain": [
              "<IPython.core.display.Markdown object>"
            ],
            "text/markdown": "Resposta:\n A próxima Imersão IA com Google Gemini da Alura acontecerá de 12 a 16 de maio de 2025. As inscrições para o curso estão abertas até o dia 11 de maio de 2025. O curso é gratuito e online, e os participantes receberão um certificado Alura + Google.\n"
          },
          "metadata": {}
        }
      ]
    },
    {
      "cell_type": "code",
      "source": [
        "# Exibe a busca\n",
        "print(f\"Busca realizada: {response.candidates[0].grounding_metadata.web_search_queries}\")\n",
        "# Exibe as URLs nas quais ele se baseou\n",
        "print(f\"Páginas utilizadas na resposta: {', '.join([site.web.title for site in response.candidates[0].grounding_metadata.grounding_chunks])}\")\n",
        "print()\n",
        "display(HTML(response.candidates[0].grounding_metadata.search_entry_point.rendered_content))"
      ],
      "metadata": {
        "id": "xHSNlTd84heJ",
        "colab": {
          "base_uri": "https://localhost:8080/",
          "height": 137
        },
        "outputId": "17fc0b2e-8cce-4195-846c-69c55537ad85"
      },
      "execution_count": 10,
      "outputs": [
        {
          "output_type": "stream",
          "name": "stdout",
          "text": [
            "Busca realizada: ['Alura Imersão IA Google Gemini datas', 'Alura Imersão IA com Google Gemini próxima edição']\n",
            "Páginas utilizadas na resposta: convergenciadigital.com.br, thallesbenicio.com.br, alura.com.br\n",
            "\n"
          ]
        },
        {
          "output_type": "display_data",
          "data": {
            "text/plain": [
              "<IPython.core.display.HTML object>"
            ],
            "text/html": [
              "<style>\n",
              ".container {\n",
              "  align-items: center;\n",
              "  border-radius: 8px;\n",
              "  display: flex;\n",
              "  font-family: Google Sans, Roboto, sans-serif;\n",
              "  font-size: 14px;\n",
              "  line-height: 20px;\n",
              "  padding: 8px 12px;\n",
              "}\n",
              ".chip {\n",
              "  display: inline-block;\n",
              "  border: solid 1px;\n",
              "  border-radius: 16px;\n",
              "  min-width: 14px;\n",
              "  padding: 5px 16px;\n",
              "  text-align: center;\n",
              "  user-select: none;\n",
              "  margin: 0 8px;\n",
              "  -webkit-tap-highlight-color: transparent;\n",
              "}\n",
              ".carousel {\n",
              "  overflow: auto;\n",
              "  scrollbar-width: none;\n",
              "  white-space: nowrap;\n",
              "  margin-right: -12px;\n",
              "}\n",
              ".headline {\n",
              "  display: flex;\n",
              "  margin-right: 4px;\n",
              "}\n",
              ".gradient-container {\n",
              "  position: relative;\n",
              "}\n",
              ".gradient {\n",
              "  position: absolute;\n",
              "  transform: translate(3px, -9px);\n",
              "  height: 36px;\n",
              "  width: 9px;\n",
              "}\n",
              "@media (prefers-color-scheme: light) {\n",
              "  .container {\n",
              "    background-color: #fafafa;\n",
              "    box-shadow: 0 0 0 1px #0000000f;\n",
              "  }\n",
              "  .headline-label {\n",
              "    color: #1f1f1f;\n",
              "  }\n",
              "  .chip {\n",
              "    background-color: #ffffff;\n",
              "    border-color: #d2d2d2;\n",
              "    color: #5e5e5e;\n",
              "    text-decoration: none;\n",
              "  }\n",
              "  .chip:hover {\n",
              "    background-color: #f2f2f2;\n",
              "  }\n",
              "  .chip:focus {\n",
              "    background-color: #f2f2f2;\n",
              "  }\n",
              "  .chip:active {\n",
              "    background-color: #d8d8d8;\n",
              "    border-color: #b6b6b6;\n",
              "  }\n",
              "  .logo-dark {\n",
              "    display: none;\n",
              "  }\n",
              "  .gradient {\n",
              "    background: linear-gradient(90deg, #fafafa 15%, #fafafa00 100%);\n",
              "  }\n",
              "}\n",
              "@media (prefers-color-scheme: dark) {\n",
              "  .container {\n",
              "    background-color: #1f1f1f;\n",
              "    box-shadow: 0 0 0 1px #ffffff26;\n",
              "  }\n",
              "  .headline-label {\n",
              "    color: #fff;\n",
              "  }\n",
              "  .chip {\n",
              "    background-color: #2c2c2c;\n",
              "    border-color: #3c4043;\n",
              "    color: #fff;\n",
              "    text-decoration: none;\n",
              "  }\n",
              "  .chip:hover {\n",
              "    background-color: #353536;\n",
              "  }\n",
              "  .chip:focus {\n",
              "    background-color: #353536;\n",
              "  }\n",
              "  .chip:active {\n",
              "    background-color: #464849;\n",
              "    border-color: #53575b;\n",
              "  }\n",
              "  .logo-light {\n",
              "    display: none;\n",
              "  }\n",
              "  .gradient {\n",
              "    background: linear-gradient(90deg, #1f1f1f 15%, #1f1f1f00 100%);\n",
              "  }\n",
              "}\n",
              "</style>\n",
              "<div class=\"container\">\n",
              "  <div class=\"headline\">\n",
              "    <svg class=\"logo-light\" width=\"18\" height=\"18\" viewBox=\"9 9 35 35\" fill=\"none\" xmlns=\"http://www.w3.org/2000/svg\">\n",
              "      <path fill-rule=\"evenodd\" clip-rule=\"evenodd\" d=\"M42.8622 27.0064C42.8622 25.7839 42.7525 24.6084 42.5487 23.4799H26.3109V30.1568H35.5897C35.1821 32.3041 33.9596 34.1222 32.1258 35.3448V39.6864H37.7213C40.9814 36.677 42.8622 32.2571 42.8622 27.0064V27.0064Z\" fill=\"#4285F4\"/>\n",
              "      <path fill-rule=\"evenodd\" clip-rule=\"evenodd\" d=\"M26.3109 43.8555C30.9659 43.8555 34.8687 42.3195 37.7213 39.6863L32.1258 35.3447C30.5898 36.3792 28.6306 37.0061 26.3109 37.0061C21.8282 37.0061 18.0195 33.9811 16.6559 29.906H10.9194V34.3573C13.7563 39.9841 19.5712 43.8555 26.3109 43.8555V43.8555Z\" fill=\"#34A853\"/>\n",
              "      <path fill-rule=\"evenodd\" clip-rule=\"evenodd\" d=\"M16.6559 29.8904C16.3111 28.8559 16.1074 27.7588 16.1074 26.6146C16.1074 25.4704 16.3111 24.3733 16.6559 23.3388V18.8875H10.9194C9.74388 21.2072 9.06992 23.8247 9.06992 26.6146C9.06992 29.4045 9.74388 32.022 10.9194 34.3417L15.3864 30.8621L16.6559 29.8904V29.8904Z\" fill=\"#FBBC05\"/>\n",
              "      <path fill-rule=\"evenodd\" clip-rule=\"evenodd\" d=\"M26.3109 16.2386C28.85 16.2386 31.107 17.1164 32.9095 18.8091L37.8466 13.8719C34.853 11.082 30.9659 9.3736 26.3109 9.3736C19.5712 9.3736 13.7563 13.245 10.9194 18.8875L16.6559 23.3388C18.0195 19.2636 21.8282 16.2386 26.3109 16.2386V16.2386Z\" fill=\"#EA4335\"/>\n",
              "    </svg>\n",
              "    <svg class=\"logo-dark\" width=\"18\" height=\"18\" viewBox=\"0 0 48 48\" xmlns=\"http://www.w3.org/2000/svg\">\n",
              "      <circle cx=\"24\" cy=\"23\" fill=\"#FFF\" r=\"22\"/>\n",
              "      <path d=\"M33.76 34.26c2.75-2.56 4.49-6.37 4.49-11.26 0-.89-.08-1.84-.29-3H24.01v5.99h8.03c-.4 2.02-1.5 3.56-3.07 4.56v.75l3.91 2.97h.88z\" fill=\"#4285F4\"/>\n",
              "      <path d=\"M15.58 25.77A8.845 8.845 0 0 0 24 31.86c1.92 0 3.62-.46 4.97-1.31l4.79 3.71C31.14 36.7 27.65 38 24 38c-5.93 0-11.01-3.4-13.45-8.36l.17-1.01 4.06-2.85h.8z\" fill=\"#34A853\"/>\n",
              "      <path d=\"M15.59 20.21a8.864 8.864 0 0 0 0 5.58l-5.03 3.86c-.98-2-1.53-4.25-1.53-6.64 0-2.39.55-4.64 1.53-6.64l1-.22 3.81 2.98.22 1.08z\" fill=\"#FBBC05\"/>\n",
              "      <path d=\"M24 14.14c2.11 0 4.02.75 5.52 1.98l4.36-4.36C31.22 9.43 27.81 8 24 8c-5.93 0-11.01 3.4-13.45 8.36l5.03 3.85A8.86 8.86 0 0 1 24 14.14z\" fill=\"#EA4335\"/>\n",
              "    </svg>\n",
              "    <div class=\"gradient-container\"><div class=\"gradient\"></div></div>\n",
              "  </div>\n",
              "  <div class=\"carousel\">\n",
              "    <a class=\"chip\" href=\"https://vertexaisearch.cloud.google.com/grounding-api-redirect/AbF9wXGk9zFVGFsDA3W_2JZeKT32F9S8YokBsKDrceSMX8svBuIvZXLEKxuzaA_u7cFsfrvqMnhLjmHwQ8H_xM_JOZFuWZpTkWHHVbACmglrm9bG18ZzG7eXJ3HZUJfsp2Wudfhoxq_TGPVqK_h-J-M4XH0eIqqwnad8EMDOMFOAAOcr1Cg0gD_noCX6zdkMh8MU41ijHmxtsq2JUcAGGd_op6DpwjPQslpp6MLyx_6K\">Alura Imersão IA Google Gemini datas</a>\n",
              "    <a class=\"chip\" href=\"https://vertexaisearch.cloud.google.com/grounding-api-redirect/AbF9wXFKQrBhN0CTpcv8bTNmBx1mdsyD_QAsdZy1thFXbsidP1uetuFbK3DVnH8lxyJ51TTWbGDxsBJP2mXapuQhdesYtKjeHdOD2IwbW-FoSn6-2xcslpZOHNAGr_kN7xUCsiBIbpkGhjAmwWN8lJVQPdFXOryY2KRRDeeyLIm1BYUJjWQ5kC02LfOtoXbgc2r7pRov7B2rTOCuDzl_lrr6qSK97Y2E_KEK5aAtqV5pGyFcWA2N1wxVNQ64KKwEetmLxYyvD5G2qTYy5Lg=\">Alura Imersão IA com Google Gemini próxima edição</a>\n",
              "  </div>\n",
              "</div>\n"
            ]
          },
          "metadata": {}
        }
      ]
    },
    {
      "cell_type": "code",
      "source": [
        "# Instalar Framework ADK de agentes do Google ################################################\n",
        "%pip -q install google-adk"
      ],
      "metadata": {
        "id": "hvZ3UnPI4jhJ",
        "colab": {
          "base_uri": "https://localhost:8080/"
        },
        "outputId": "abf046eb-5095-458e-a6c3-b3f7d7570a98"
      },
      "execution_count": 11,
      "outputs": [
        {
          "output_type": "stream",
          "name": "stdout",
          "text": [
            "\u001b[?25l   \u001b[90m━━━━━━━━━━━━━━━━━━━━━━━━━━━━━━━━━━━━━━━━\u001b[0m \u001b[32m0.0/1.2 MB\u001b[0m \u001b[31m?\u001b[0m eta \u001b[36m-:--:--\u001b[0m\r\u001b[2K   \u001b[91m━━━━━━━━━━━━━━━━━━━━━━━━━━━\u001b[0m\u001b[91m╸\u001b[0m\u001b[90m━━━━━━━━━━━━\u001b[0m \u001b[32m0.8/1.2 MB\u001b[0m \u001b[31m24.6 MB/s\u001b[0m eta \u001b[36m0:00:01\u001b[0m\r\u001b[2K   \u001b[90m━━━━━━━━━━━━━━━━━━━━━━━━━━━━━━━━━━━━━━━━\u001b[0m \u001b[32m1.2/1.2 MB\u001b[0m \u001b[31m18.6 MB/s\u001b[0m eta \u001b[36m0:00:00\u001b[0m\n",
            "\u001b[2K   \u001b[90m━━━━━━━━━━━━━━━━━━━━━━━━━━━━━━━━━━━━━━━━\u001b[0m \u001b[32m232.1/232.1 kB\u001b[0m \u001b[31m15.1 MB/s\u001b[0m eta \u001b[36m0:00:00\u001b[0m\n",
            "\u001b[2K   \u001b[90m━━━━━━━━━━━━━━━━━━━━━━━━━━━━━━━━━━━━━━━━\u001b[0m \u001b[32m95.2/95.2 kB\u001b[0m \u001b[31m6.0 MB/s\u001b[0m eta \u001b[36m0:00:00\u001b[0m\n",
            "\u001b[2K   \u001b[90m━━━━━━━━━━━━━━━━━━━━━━━━━━━━━━━━━━━━━━━━\u001b[0m \u001b[32m217.1/217.1 kB\u001b[0m \u001b[31m13.8 MB/s\u001b[0m eta \u001b[36m0:00:00\u001b[0m\n",
            "\u001b[2K   \u001b[90m━━━━━━━━━━━━━━━━━━━━━━━━━━━━━━━━━━━━━━━━\u001b[0m \u001b[32m334.1/334.1 kB\u001b[0m \u001b[31m17.2 MB/s\u001b[0m eta \u001b[36m0:00:00\u001b[0m\n",
            "\u001b[2K   \u001b[90m━━━━━━━━━━━━━━━━━━━━━━━━━━━━━━━━━━━━━━━━\u001b[0m \u001b[32m125.1/125.1 kB\u001b[0m \u001b[31m8.7 MB/s\u001b[0m eta \u001b[36m0:00:00\u001b[0m\n",
            "\u001b[2K   \u001b[90m━━━━━━━━━━━━━━━━━━━━━━━━━━━━━━━━━━━━━━━━\u001b[0m \u001b[32m65.8/65.8 kB\u001b[0m \u001b[31m4.3 MB/s\u001b[0m eta \u001b[36m0:00:00\u001b[0m\n",
            "\u001b[2K   \u001b[90m━━━━━━━━━━━━━━━━━━━━━━━━━━━━━━━━━━━━━━━━\u001b[0m \u001b[32m118.9/118.9 kB\u001b[0m \u001b[31m7.3 MB/s\u001b[0m eta \u001b[36m0:00:00\u001b[0m\n",
            "\u001b[2K   \u001b[90m━━━━━━━━━━━━━━━━━━━━━━━━━━━━━━━━━━━━━━━━\u001b[0m \u001b[32m194.9/194.9 kB\u001b[0m \u001b[31m11.2 MB/s\u001b[0m eta \u001b[36m0:00:00\u001b[0m\n",
            "\u001b[2K   \u001b[90m━━━━━━━━━━━━━━━━━━━━━━━━━━━━━━━━━━━━━━━━\u001b[0m \u001b[32m62.5/62.5 kB\u001b[0m \u001b[31m5.0 MB/s\u001b[0m eta \u001b[36m0:00:00\u001b[0m\n",
            "\u001b[2K   \u001b[90m━━━━━━━━━━━━━━━━━━━━━━━━━━━━━━━━━━━━━━━━\u001b[0m \u001b[32m103.3/103.3 kB\u001b[0m \u001b[31m6.5 MB/s\u001b[0m eta \u001b[36m0:00:00\u001b[0m\n",
            "\u001b[2K   \u001b[90m━━━━━━━━━━━━━━━━━━━━━━━━━━━━━━━━━━━━━━━━\u001b[0m \u001b[32m44.4/44.4 kB\u001b[0m \u001b[31m2.8 MB/s\u001b[0m eta \u001b[36m0:00:00\u001b[0m\n",
            "\u001b[2K   \u001b[90m━━━━━━━━━━━━━━━━━━━━━━━━━━━━━━━━━━━━━━━━\u001b[0m \u001b[32m72.0/72.0 kB\u001b[0m \u001b[31m4.6 MB/s\u001b[0m eta \u001b[36m0:00:00\u001b[0m\n",
            "\u001b[?25h"
          ]
        }
      ]
    },
    {
      "cell_type": "code",
      "execution_count": 12,
      "metadata": {
        "id": "aePV2bdfDeoW"
      },
      "outputs": [],
      "source": [
        "from google.adk.agents import Agent\n",
        "from google.adk.runners import Runner\n",
        "from google.adk.sessions import InMemorySessionService\n",
        "from google.adk.tools import google_search\n",
        "from google.genai import types  # Para criar conteúdos (Content e Part)\n",
        "from datetime import date\n",
        "import textwrap # Para formatar melhor a saída de texto\n",
        "from IPython.display import display, Markdown # Para exibir texto formatado no Colab\n",
        "import requests # Para fazer requisições HTTP\n",
        "import warnings\n",
        "\n",
        "warnings.filterwarnings(\"ignore\")"
      ]
    },
    {
      "cell_type": "code",
      "source": [
        "# Função auxiliar que envia uma mensagem para um agente via Runner e retorna a resposta final\n",
        "def call_agent(agent: Agent, message_text: str) -> str:\n",
        "    # Cria um serviço de sessão em memória\n",
        "    session_service = InMemorySessionService()\n",
        "    # Cria uma nova sessão (você pode personalizar os IDs conforme necessário)\n",
        "    session = session_service.create_session(app_name=agent.name, user_id=\"user1\", session_id=\"session1\")\n",
        "    # Cria um Runner para o agente\n",
        "    runner = Runner(agent=agent, app_name=agent.name, session_service=session_service)\n",
        "    # Cria o conteúdo da mensagem de entrada\n",
        "    content = types.Content(role=\"user\", parts=[types.Part(text=message_text)])\n",
        "\n",
        "    final_response = \"\"\n",
        "    # Itera assincronamente pelos eventos retornados durante a execução do agente\n",
        "    for event in runner.run(user_id=\"user1\", session_id=\"session1\", new_message=content):\n",
        "        if event.is_final_response():\n",
        "          for part in event.content.parts:\n",
        "            if part.text is not None:\n",
        "              final_response += part.text\n",
        "              final_response += \"\\n\"\n",
        "    return final_response"
      ],
      "metadata": {
        "id": "_xP4lWhsS5ko"
      },
      "execution_count": 13,
      "outputs": []
    },
    {
      "cell_type": "code",
      "source": [
        "# Função auxiliar para exibir texto formatado em Markdown no Colab\n",
        "def to_markdown(text):\n",
        "  text = text.replace('•', '  *')\n",
        "  return Markdown(textwrap.indent(text, '> ', predicate=lambda _: True))"
      ],
      "metadata": {
        "id": "8dosiodaxfFR"
      },
      "execution_count": 14,
      "outputs": []
    },
    {
      "cell_type": "code",
      "source": [
        "##########################################\n",
        "# --- Agente 1: Buscador de Notícias --- #\n",
        "##########################################\n",
        "def agente_buscador(topico, data_de_hoje):\n",
        "  buscador = Agent(\n",
        "      name = \"agente_buscador\",\n",
        "      model = \"gemini-2.0-flash\",\n",
        "      description = \"Agente que busca informações no Google\",\n",
        "      tools = [google_search],\n",
        "      instruction = \"\"\"\n",
        "      Você é um assistente de pésquisa. E sua tarefa é usar a ferramenta do Google (google_search)\n",
        "      para recuperar as últimas notícias de lançamentos muito relevantes sobre o tópico abaixo.\n",
        "      Foque no máximo de 5 lançamentos relevantes, com base na qualidade e entusiasmo das notícias sobre ele.\n",
        "      Se um tema tiver poucas notícias ou reações entusiasmadas, é possível que não seja tão relevante assim\n",
        "      e pode ser substituído por outro que tenha mais.\n",
        "      Esses lançamentos relevantes devem ser atuais de no máximo um mês antes da data de hoje.\n",
        "      \"\"\"\n",
        "  )\n",
        "  entrada_do_agente_buscador = f\"Tópico: {topico}\\nData de hoje: {data_de_hoje}\"\n",
        "\n",
        "  lancamentos = call_agent(buscador, entrada_do_agente_buscador)\n",
        "  return lancamentos"
      ],
      "metadata": {
        "id": "o8bqIfi_DyH8"
      },
      "execution_count": 32,
      "outputs": []
    },
    {
      "cell_type": "code",
      "source": [
        "################################################\n",
        "# --- Agente 2: Planejador de posts --- #\n",
        "################################################\n",
        "def agente_planejador(topico, lancamentos_buscados):\n",
        "    planejador = Agent(\n",
        "        name=\"agente_planejador\",\n",
        "        model=\"gemini-2.0-flash\",\n",
        "        # Inserir as instruções do Agente Planejador #################################################\n",
        "        instruction=\"\"\"\n",
        "        Você é um planejado de conteúdo, especialista em redes sociais.\n",
        "        Com base nos lançamentos mais recentes e relevantes buscador, você deve:\n",
        "        usar a ferramenta de busca do Google (google_search) para criar um plano\n",
        "        sobre quais são os pontos mais relevantes que poderíamos abordar em um\n",
        "        post em cada um deles. Você também pode usar o (google_search) para\n",
        "        encontrar mais informações sobre os temas e aprofundar.\n",
        "        Ao final, você irá escolher o tema mais relevante entre eles com base\n",
        "        nas suas pesquisas e retornar esse tema, seus pontos mais relevantes e\n",
        "        plano com os assuntos a serem abordados no post que será escrito\n",
        "        posteriormente.\n",
        "        \"\"\",\n",
        "        description=\"Agente que planeja posts\",\n",
        "        tools=[google_search]\n",
        "    )\n",
        "\n",
        "    entrada_do_agente_planejador = f\"Tópico:{topico}\\nLançamentos buscados: {lancamentos_buscados}\"\n",
        "    # Executa o agente\n",
        "    plano_do_post = call_agent(planejador, entrada_do_agente_planejador)\n",
        "    return plano_do_post"
      ],
      "metadata": {
        "id": "y3VO1uo5_ghO"
      },
      "execution_count": 33,
      "outputs": []
    },
    {
      "cell_type": "code",
      "source": [
        "######################################\n",
        "# --- Agente 3: Redator do Post --- #\n",
        "######################################\n",
        "def agente_redator(topico, plano_de_post):\n",
        "    redator = Agent(\n",
        "        name=\"agente_redator\",\n",
        "        model=\"gemini-2.5-pro-preview-03-25\",\n",
        "        instruction=\"\"\"\n",
        "            Você é um Redator Criativo especializado em criar posts virais para redes sociais.\n",
        "            Você escreve posts para a empresa Alura, a maior escola online de tecnologia do Brasil.\n",
        "            Utilize o tema fornecido no plano de post e os pontos mais relevantes fornecidos e, com base nisso,\n",
        "            escreva um rascunho de post para Instagram sobre o tema indicado.\n",
        "            O post deve ser engajador, informativo, com linguagem simples e incluir 2 a 4 hashtags no final.\n",
        "            \"\"\",\n",
        "        description=\"Agente redator de posts engajadores para Instagram\"\n",
        "    )\n",
        "    entrada_do_agente_redator = f\"Tópico: {topico}\\nPlano de post: {plano_de_post}\"\n",
        "    # Executa o agente\n",
        "    rascunho = call_agent(redator, entrada_do_agente_redator)\n",
        "    return rascunho"
      ],
      "metadata": {
        "id": "uOqlg2TRLVh1"
      },
      "execution_count": 34,
      "outputs": []
    },
    {
      "cell_type": "code",
      "source": [
        "##########################################\n",
        "# --- Agente 4: Revisor de Qualidade --- #\n",
        "##########################################\n",
        "def agente_revisor(topico, rascunho_gerado):\n",
        "    revisor = Agent(\n",
        "        name=\"agente_revisor\",\n",
        "        model=\"gemini-2.5-pro-preview-03-25\",\n",
        "        instruction=\"\"\"\n",
        "            Você é um Editor e Revisor de Conteúdo meticuloso, especializado em posts para redes sociais, com foco no Instagram.\n",
        "            Por ter um público jovem, entre 18 e 30 anos, use um tom de escrita adequado.\n",
        "            Revise o rascunho de post de Instagram abaixo sobre o tópico indicado, verificando clareza, concisão, correção e tom.\n",
        "            Se o rascunho estiver bom, responda apenas 'O rascunho está ótimo e pronto para publicar!'.\n",
        "            Caso haja problemas, aponte-os e sugira melhorias.\n",
        "            \"\"\",\n",
        "        description=\"Agente revisor de post para redes sociais.\"\n",
        "    )\n",
        "    entrada_do_agente_revisor = f\"Tópico: {topico}\\nRascunho: {rascunho_gerado}\"\n",
        "    # Executa o agente\n",
        "    texto_revisado = call_agent(revisor, entrada_do_agente_revisor)\n",
        "    return texto_revisado"
      ],
      "metadata": {
        "id": "_aTb1SdkLeT6"
      },
      "execution_count": 37,
      "outputs": []
    },
    {
      "cell_type": "code",
      "source": [
        "data_de_hoje = date.today().strftime(\"%d/%m/%Y\")\n",
        "\n",
        "print(\"🚀 Iniciando o Sistema de Criação de Posts para Instagram com 4 Agentes 🚀\")\n",
        "\n",
        "# --- Obter o Tópico do Usuário ---\n",
        "topico = input(\"❓ Por favor, digite o TÓPICO sobre o qual você quer criar o post de tendências: \")\n",
        "\n",
        "# Inserir lógica do sistema de agentes ################################################\n",
        "if not topico:\n",
        "  print(\"Você não digitou um tópico. Por favor, tente novamente.\")\n",
        "else :\n",
        "  print(f\"Maravilha, vamos criar seu post sobre novidades {topico}\" )\n",
        "\n",
        "  lancamentos_buscados = agente_buscador(topico, data_de_hoje)\n",
        "  print(\"\\n----------------- RESULTADO DO AGENTE BUSCADOR -----------------\\n\")\n",
        "  display(to_markdown(lancamentos_buscados))\n",
        "  print(\"----------------------------------------------------------------\")\n",
        "\n",
        "  plano_de_post = agente_buscador (topico, lancamentos_buscados)\n",
        "  print(\"\\n----------------- RESULTADO DO AGENTE PLANEJADOR -----------------\\n\")\n",
        "  display(to_markdown(plano_de_post))\n",
        "  print(\"----------------------------------------------------------------\")\n",
        "\n",
        "  redator_de_post = agente_buscador (topico, plano_de_post)\n",
        "  print(\"\\n----------------- RESULTADO DO AGENTE REDATOR -----------------\\n\")\n",
        "  display(to_markdown(redator_de_post))\n",
        "  print(\"----------------------------------------------------------------\")\n",
        "\n",
        "  revisor_de_post = agente_buscador (topico, redator_de_post)\n",
        "  print(\"\\n----------------- RESULTADO DO AGENTE REVISOR -----------------\\n\")\n",
        "  display(to_markdown(revisor_de_post))\n",
        "  print(\"----------------------------------------------------------------\")"
      ],
      "metadata": {
        "id": "630ummxz4myx",
        "colab": {
          "base_uri": "https://localhost:8080/",
          "height": 1000
        },
        "outputId": "19c1f9da-82a9-47b3-e1fc-9b7ba1000c9e"
      },
      "execution_count": 36,
      "outputs": [
        {
          "output_type": "stream",
          "name": "stdout",
          "text": [
            "🚀 Iniciando o Sistema de Criação de Posts para Instagram com 4 Agentes 🚀\n",
            "❓ Por favor, digite o TÓPICO sobre o qual você quer criar o post de tendências: Agentes de IA\n",
            "Maravilha, vamos criar seu post sobre novidades Agentes de IA\n",
            "\n",
            "----------------- RESULTADO DO AGENTE BUSCADOR -----------------\n",
            "\n"
          ]
        },
        {
          "output_type": "display_data",
          "data": {
            "text/plain": [
              "<IPython.core.display.Markdown object>"
            ],
            "text/markdown": "> Para fornecer as últimas notícias sobre lançamentos relevantes de agentes de IA, farei algumas pesquisas no Google. Aqui estão as consultas que usarei:\n> \n> \n> Com certeza! Aqui estão alguns dos lançamentos e tendências mais relevantes no mundo dos agentes de IA, com foco nos últimos meses:\n> \n> **1. Adoção e Impacto no Comércio:**\n> \n> *   Agentes de IA estão se tornando onipresentes e devem revolucionar a forma como interagimos com as finanças e o comércio. Um relatório da Visa indica que 82% dos brasileiros demonstram interesse em assistentes pessoais com IA.\n> *   Empresas de todos os setores estão se adaptando para aproveitar a transformação digital impulsionada pela IA, buscando autonomia, eficiência e redução de custos.\n> *   Em 2025, espera-se que a IA deixe de ser uma promessa e se torne uma peça-chave na economia, com empresas investindo fortemente em sistemas mais personalizados e eficientes.\n> \n> **2. Avanços Tecnológicos e Novas Ferramentas:**\n> \n> *   Grandes empresas como IBM, Anthropic, Amazon, Google e OpenAI estão anunciando atualizações e lançamentos que prometem revolucionar o cenário da IA, com ferramentas inovadoras e integração avançada entre agentes.\n> *   A IBM anunciou atualizações no watsonx Orchestrate, oferecendo soluções para integrar, customizar e implantar agentes, além de um Agent Catalog que simplifica a orquestração de projetos complexos.\n> *   Anthropic introduziu a funcionalidade de busca na web em sua API, permitindo que o agente Claude forneça respostas mais precisas e contextualizadas.\n> *   A Microsoft revelou novos agentes para o Security Copilot e proteções para IA. Novos agentes de IA do Copilot criam relatórios e analisam dados em minutos.\n> \n> **3. Agentes de IA como Criptomoedas:**\n> \n> *   A interseção entre criptomoedas e inteligência artificial está se tornando uma área de crescente interesse, com inovações em IA catalisando a evolução de criptomoedas.\n> *   Criptomoedas de IA utilizam inteligência artificial para automatizar tarefas, simplificar operações e oferecer análises preditivas para traders.\n> *   Exemplos de criptomoedas de IA incluem Mind of Pepe (MIND), SUBBD e Fantasy Pepe (FEPE).\n> \n> **4. Desafios e Expectativas:**\n> \n> *   Especialistas da Andreessen Horowitz (a16z) apontam que o termo \"agente de IA\" está se desgastando, com muitas pessoas usando a expressão sem entender o conceito.\n> *   Para que a IA substitua trabalhadores humanos, é preciso resolver questões técnicas como memória de longo prazo persistente e eliminar as alucinações.\n> *   É fundamental ter expectativas realistas sobre o que os agentes de IA podem fazer hoje e o que poderão fazer no futuro.\n> \n> **5. Aplicações Práticas:**\n> \n> *   Agentes de IA podem ajudar a melhorar a eficiência do dia a dia ao automatizar tarefas como organização, atendimento, automação de processos e entretenimento personalizado.\n> *   Exemplos de aplicações incluem robo-advisors que ajustam carteiras de investimento e o Browser Operator da Opera, que automatiza tarefas de navegação.\n> *   Setores como e-commerce, atendimento ao cliente, marketing e finanças já incorporam agentes de IA.\n> \n> **6. Oportunidades de Mercado:**\n> \n> *   O mercado de automações e agentes de IA está vivendo uma revolução, com empresas buscando soluções eficientes e escaláveis.\n> *   Oportunidades incluem automação de processos internos, personalização de experiências do cliente, análise preditiva e soluções para pequenas e médias empresas.\n> *   Criar agentes de IA voltados para nichos específicos pode aumentar a demanda e permitir preços premium.\n> \n> Esses são apenas alguns dos lançamentos e tendências mais recentes no mundo dos agentes de IA. À medida que a tecnologia continua a evoluir, podemos esperar ver ainda mais inovações e aplicações surgindo nos próximos meses e anos.\n> \n"
          },
          "metadata": {}
        },
        {
          "output_type": "stream",
          "name": "stdout",
          "text": [
            "----------------------------------------------------------------\n",
            "\n",
            "----------------- RESULTADO DO AGENTE PLANEJADOR -----------------\n",
            "\n"
          ]
        },
        {
          "output_type": "display_data",
          "data": {
            "text/plain": [
              "<IPython.core.display.Markdown object>"
            ],
            "text/markdown": "> Para fornecer as últimas notícias sobre lançamentos relevantes de agentes de IA, farei algumas pesquisas no Google. Aqui estão as consultas que usarei:\n> \n> Com certeza! Aqui estão alguns dos lançamentos e tendências mais relevantes no mundo dos agentes de IA, com foco nos últimos meses:\n> \n> **1. Adoção e Impacto no Comércio:**\n> \n> *   Agentes de IA estão se tornando comuns e devem revolucionar a forma como interagimos com as finanças e o comércio. Um relatório da Visa indica que 82% dos brasileiros demonstram interesse em assistentes pessoais com IA.\n> *   Empresas de todos os setores estão se adaptando para aproveitar a transformação digital impulsionada pela IA, buscando autonomia, eficiência e redução de custos.\n> *   Em 2025, espera-se que a IA deixe de ser uma promessa e se torne uma peça-chave na economia, com empresas investindo fortemente em sistemas mais personalizados e eficientes. Agentes de IA podem ajudar uma empresa com 500 pessoas a trabalhar como se tivesse 1.500 ou 2.000 colaboradores.\n> \n> **2. Avanços Tecnológicos e Novas Ferramentas:**\n> \n> *   Grandes empresas como IBM, Anthropic, Amazon, Google e OpenAI estão anunciando atualizações e lançamentos que prometem revolucionar o cenário da IA, com ferramentas inovadoras e integração avançada entre agentes.\n> *   A IBM anunciou atualizações no watsonx Orchestrate, oferecendo soluções para integrar, customizar e implantar agentes, além de um Agent Catalog que simplifica a orquestração de projetos complexos.\n> *   Anthropic introduziu a funcionalidade de busca na web em sua API, permitindo que o agente Claude forneça respostas mais precisas e contextualizadas.\n> *   A Microsoft revelou novos agentes para o Security Copilot e proteções para IA. Novos agentes de IA do Copilot criam relatórios e analisam dados em minutos.\n> \n> **3. Agentes de IA como Criptomoedas:**\n> \n> *   A interseção entre criptomoedas e inteligência artificial está se tornando uma área de crescente interesse, com inovações em IA catalisando a evolução de criptomoedas.\n> *   Criptomoedas de IA utilizam inteligência artificial para automatizar tarefas, simplificar operações e oferecer análises preditivas para traders.\n> *   Exemplos de criptomoedas de IA incluem NEAR Protocol (NEAR), Fetch.ai (FET) e Ocean Protocol (OCEAN).\n> \n> **4. Desafios e Expectativas:**\n> \n> *   Especialistas da Andreessen Horowitz (a16z) apontam que o termo \"agente de IA\" está se desgastando, com muitas pessoas usando a expressão sem entender o conceito.\n> *   Para que a IA substitua trabalhadores humanos, é preciso resolver questões técnicas como memória de longo prazo persistente e eliminar as alucinações.\n> *   É fundamental ter expectativas realistas sobre o que os agentes de IA podem fazer hoje e o que poderão fazer no futuro.\n> \n> **5. Aplicações Práticas:**\n> \n> *   Agentes de IA podem ajudar a melhorar a eficiência do dia a dia ao automatizar tarefas como organização, atendimento, automação de processos e entretenimento personalizado.\n> *   Exemplos de aplicações incluem robo-advisors que ajustam carteiras de investimento e o Browser Operator da Opera, que automatiza tarefas de navegação.\n> *   Setores como e-commerce, atendimento ao cliente, marketing e finanças já incorporam agentes de IA.\n> \n> **6. Oportunidades de Mercado:**\n> \n> *   O mercado de automações e agentes de IA está vivendo uma revolução, com empresas buscando soluções eficientes e escaláveis.\n> *   Oportunidades incluem automação de processos internos, personalização de experiências do cliente, análise preditiva e soluções para pequenas e médias empresas.\n> *   Criar agentes de IA voltados para nichos específicos pode aumentar a demanda e permitir preços premium.\n> \n> **7. Ferramentas para Criar Agentes de IA:**\n> \n> *   Ferramentas No-Code facilitam a criação de agentes de IA para quem não tem conhecimento técnico em programação.\n> *   Ferramentas de Processamento de Linguagem Natural (PLN) são essenciais para que os agentes de IA compreendam e reajam à linguagem humana.\n> *   Exemplos de ferramentas incluem LangChain, AutoGPT e Microsoft Autogen.\n> \n> **8. Tendências:**\n> \n> *   Aumento da capacidade dos modelos de IA de lembrar e raciocinar melhor.\n> *   Modelos de IA se tornarão mais capazes e úteis, com modelos de raciocínio avançados capazes de resolver problemas complexos.\n> *   Agentes de IA ajudarão a simplificar a vida em casa e no trabalho, tornando-se parte integrante de ambos.\n> \n> **9. Riscos e Segurança:**\n> \n> *   Agentes mal-intencionados usam IA para se passar por autoridades dos EUA e obter acesso a contas de funcionários do governo.\n> *   É crucial proteger as ferramentas de IA e usá-las para aumentar a segurança.\n> *   A Microsoft está dedicada a ajudar as organizações a proteger seu futuro com uma plataforma de segurança de ponta a ponta que prioriza a IA.\n> \n> Esses são apenas alguns dos lançamentos e tendências mais recentes no mundo dos agentes de IA. À medida que a tecnologia continua a evoluir, podemos esperar ver ainda mais inovações e aplicações surgindo nos próximos meses e anos.\n> \n"
          },
          "metadata": {}
        },
        {
          "output_type": "stream",
          "name": "stdout",
          "text": [
            "----------------------------------------------------------------\n",
            "\n",
            "----------------- RESULTADO DO AGENTE REDATOR -----------------\n",
            "\n"
          ]
        },
        {
          "output_type": "display_data",
          "data": {
            "text/plain": [
              "<IPython.core.display.Markdown object>"
            ],
            "text/markdown": "> Aqui estão alguns dos lançamentos e tendências mais relevantes no mundo dos agentes de IA nos últimos meses.\n> \n> **1. Adoção e Impacto no Comércio:**\n> \n> *   Agentes de IA estão se tornando comuns e devem revolucionar a forma como interagimos com as finanças e o comércio. Um relatório da Visa indica que 82% dos brasileiros demonstram interesse em assistentes pessoais com IA.\n> *   Empresas de todos os setores estão se adaptando para aproveitar a transformação digital impulsionada pela IA, buscando autonomia, eficiência e redução de custos.\n> *   Em 2025, espera-se que a IA deixe de ser uma promessa e se torne uma peça-chave na economia, com empresas investindo fortemente em sistemas mais personalizados e eficientes. Agentes de IA podem ajudar uma empresa com 500 pessoas a trabalhar como se tivesse 1.500 ou 2.000 colaboradores.\n> \n> **2. Avanços Tecnológicos e Novas Ferramentas:**\n> \n> *   Grandes empresas como IBM, Anthropic, Amazon, Google e OpenAI estão anunciando atualizações e lançamentos que prometem revolucionar o cenário da IA, com ferramentas inovadoras e integração avançada entre agentes.\n> *   A IBM anunciou atualizações no watsonx Orchestrate, oferecendo soluções para integrar, customizar e implantar agentes, além de um Agent Catalog que simplifica a orquestração de projetos complexos.\n> *   Anthropic introduziu a funcionalidade de busca na web em sua API, permitindo que o agente Claude forneça respostas mais precisas e contextualizadas.\n> *   A Microsoft revelou novos agentes para o Security Copilot e proteções para IA. Novos agentes de IA do Copilot criam relatórios e analisam dados em minutos.\n> \n> **3. Agentes de IA como Criptomoedas:**\n> \n> *   A interseção entre criptomoedas e inteligência artificial está se tornando uma área de crescente interesse, com inovações em IA catalisando a evolução de criptomoedas.\n> *   Criptomoedas de IA utilizam inteligência artificial para automatizar tarefas, simplificar operações e oferecer análises preditivas para traders.\n> *   Exemplos de criptomoedas de IA incluem NEAR Protocol (NEAR), Fetch.ai (FET) e Ocean Protocol (OCEAN).\n> \n> **4. Desafios e Expectativas:**\n> \n> *   Especialistas da Andreessen Horowitz (a16z) apontam que o termo \"agente de IA\" está se desgastando, com muitas pessoas usando a expressão sem entender o conceito.\n> *   Para que a IA substitua trabalhadores humanos, é preciso resolver questões técnicas como memória de longo prazo persistente e eliminar as alucinações.\n> *   É fundamental ter expectativas realistas sobre o que os agentes de IA podem fazer hoje e o que poderão fazer no futuro.\n> \n> **5. Aplicações Práticas:**\n> \n> *   Agentes de IA podem ajudar a melhorar a eficiência do dia a dia ao automatizar tarefas como organização, atendimento, automação de processos e entretenimento personalizado.\n> *   Exemplos de aplicações incluem robo-advisors que ajustam carteiras de investimento e o Browser Operator da Opera, que automatiza tarefas de navegação.\n> *   Setores como e-commerce, atendimento ao cliente, marketing e finanças já incorporam agentes de IA.\n> \n> **6. Oportunidades de Mercado:**\n> \n> *   O mercado de automações e agentes de IA está vivendo uma revolução, com empresas buscando soluções eficientes e escaláveis.\n> *   Oportunidades incluem automação de processos internos, personalização de experiências do cliente, análise preditiva e soluções para pequenas e médias empresas.\n> *   Criar agentes de IA voltados para nichos específicos pode aumentar a demanda e permitir preços premium.\n> \n> **7. Ferramentas para Criar Agentes de IA:**\n> \n> *   Ferramentas No-Code facilitam a criação de agentes de IA para quem não tem conhecimento técnico em programação.\n> *   Ferramentas de Processamento de Linguagem Natural (PLN) são essenciais para que os agentes de IA compreendam e reajam à linguagem humana.\n> *   Exemplos de ferramentas incluem LangChain, AutoGPT e Microsoft Autogen.\n> \n> **8. Tendências:**\n> \n> *   Aumento da capacidade dos modelos de IA de lembrar e raciocinar melhor.\n> *   Modelos de IA se tornarão mais capazes e úteis, com modelos de raciocínio avançados capazes de resolver problemas complexos.\n> *   Agentes de IA ajudarão a simplificar a vida em casa e no trabalho, tornando-se parte integrante de ambos.\n> \n> **9. Riscos e Segurança:**\n> \n> *   Agentes mal-intencionados usam IA para se passar por autoridades dos EUA e obter acesso a contas de funcionários do governo.\n> *   É crucial proteger as ferramentas de IA e usá-las para aumentar a segurança.\n> *   A Microsoft está dedicada a ajudar as organizações a proteger seu futuro com uma plataforma de segurança de ponta a ponta que prioriza a IA.\n> \n> À medida que a tecnologia continua a evoluir, podemos esperar ver ainda mais inovações e aplicações surgindo nos próximos meses e anos.\n> \n"
          },
          "metadata": {}
        },
        {
          "output_type": "stream",
          "name": "stdout",
          "text": [
            "----------------------------------------------------------------\n",
            "\n",
            "----------------- RESULTADO DO AGENTE REVISOR -----------------\n",
            "\n"
          ]
        },
        {
          "output_type": "display_data",
          "data": {
            "text/plain": [
              "<IPython.core.display.Markdown object>"
            ],
            "text/markdown": "> Com certeza! Com base nas informações fornecidas e na data de hoje (16 de maio de 2025), aqui estão alguns dos lançamentos e tendências mais relevantes no mundo dos agentes de IA no último mês:\n> \n> \n> Com certeza, aqui estão alguns dos lançamentos e tendências mais relevantes no mundo dos agentes de IA no último mês:\n> \n> **Lançamentos e Atualizações Recentes:**\n> \n> *   **IBM watsonx Orchestrate:** A IBM anunciou atualizações no watsonx Orchestrate, que oferece soluções para integrar, personalizar e implantar agentes de IA. Inclui um Agent Catalog para simplificar a orquestração de projetos complexos.\n> *   **Anthropic:** A Anthropic introduziu a funcionalidade de busca na web em sua API, permitindo que o agente Claude forneça respostas mais precisas e contextualizadas.\n> *   **Microsoft Security Copilot:** A Microsoft revelou novos agentes de IA para o Security Copilot e proteções para IA. Os novos agentes de IA do Copilot criam relatórios e analisam dados em minutos.\n> *    **GIGABYTE:** A GIGABYTE apresentou sua linha de PCs com IA e desktops projetados para jogos e produtividade, incluindo o agente de IA GiMATE, que permite o controle natural e integrado do notebook por meio da tecnologia LLM.\n> *   **Salesforce Agentforce:** A Salesforce está focando seus esforços em agentes de IA e apresentou o Agentforce, uma nova camada na plataforma Salesforce que permite que as empresas criem e implementem agentes de IA que podem agir de forma autônoma em qualquer função de negócios.\n> \n> **Ferramentas e Plataformas:**\n> \n> *   **Agent.ai:** Uma plataforma inovadora que se posiciona como uma rede profissional para agentes de inteligência artificial. Permite descobrir, conectar-se e contratar agentes de IA para realizar uma variedade de tarefas.\n> *   **Ferramentas No-Code:** Ferramentas No-Code facilitam a criação de agentes de IA para quem não tem conhecimento técnico em programação.\n> *   **Ferramentas de PLN:** Ferramentas de Processamento de Linguagem Natural (PLN) são essenciais para que os agentes de IA compreendam e reajam à linguagem humana.\n> *   **Modelos de Linguagem:** Os modelos de linguagem formam a base do raciocínio do agente, com opções como OpenAI (GPT-4 e variantes), Anthropic (Claude), Mistral AI e modelos open-source como Llama 3.\n> \n> **Tendências:**\n> \n> *   **Aumento da Capacidade dos Modelos de IA:** Aumento da capacidade dos modelos de IA de lembrar e raciocinar melhor.\n> *   **Modelos de IA Mais Capazes:** Modelos de IA se tornarão mais capazes e úteis, com modelos de raciocínio avançados capazes de resolver problemas complexos.\n> *   **Integração de Agentes de IA:** Agentes de IA ajudarão a simplificar a vida em casa e no trabalho, tornando-se parte integrante de ambos.\n> *   **Expansão do Mercado:** O mercado de agentes de IA está se expandindo rapidamente, com projeções de crescimento de US$ 5 bilhões em 2024 para mais de US$ 47 bilhões em 2030.\n> *   **Automação Adaptativa:** Em vez de seguir fluxos pré-definidos, os novos bots usam IA generativa para adaptar suas respostas e decisões em tempo real.\n> \n> Espero que esta informação seja útil!\n> \n"
          },
          "metadata": {}
        },
        {
          "output_type": "stream",
          "name": "stdout",
          "text": [
            "----------------------------------------------------------------\n"
          ]
        }
      ]
    }
  ]
}