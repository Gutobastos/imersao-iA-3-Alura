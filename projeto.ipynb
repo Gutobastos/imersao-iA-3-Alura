{
  "cells": [
    {
      "cell_type": "markdown",
      "metadata": {
        "colab_type": "text",
        "id": "view-in-github"
      },
      "source": [
        "<a href=\"https://colab.research.google.com/github/Gutobastos/imersao-iA-3-Alura/blob/main/projeto.ipynb\" target=\"_parent\"><img src=\"https://colab.research.google.com/assets/colab-badge.svg\" alt=\"Open In Colab\"/></a>"
      ]
    },
    {
      "cell_type": "code",
      "execution_count": null,
      "metadata": {
        "colab": {
          "base_uri": "https://localhost:8080/"
        },
        "id": "TS18fEFmYu_P",
        "outputId": "3fe2bc3c-f119-4d35-ae9a-5b8c3f8daa80"
      },
      "outputs": [
        {
          "ename": "",
          "evalue": "",
          "output_type": "error",
          "traceback": [
            "\u001b[1;31mRunning cells with 'Python 3.13.3' requires the ipykernel package.\n",
            "\u001b[1;31mRun the following command to install 'ipykernel' into the Python environment. \n",
            "\u001b[1;31mCommand: 'c:/Users/Fabricio-GNET/AppData/Local/Microsoft/WindowsApps/python3.13.exe -m pip install ipykernel -U --user --force-reinstall'"
          ]
        }
      ],
      "source": [
        "!pip install google-genai"
      ]
    },
    {
      "cell_type": "code",
      "execution_count": 2,
      "metadata": {
        "id": "CBjTeyOgZIbs"
      },
      "outputs": [],
      "source": [
        "import os\n",
        "from google.colab import userdata\n",
        "os.environ['GOOGLE_API_KEY'] = userdata.get('GOOGLE_API_KEY')"
      ]
    },
    {
      "cell_type": "code",
      "execution_count": 3,
      "metadata": {
        "id": "fjhKuIbDo7yW"
      },
      "outputs": [],
      "source": [
        "from google import genai\n",
        "client = genai.Client()"
      ]
    },
    {
      "cell_type": "code",
      "execution_count": 7,
      "metadata": {
        "colab": {
          "base_uri": "https://localhost:8080/"
        },
        "id": "z7c30It1qB8b",
        "outputId": "d727a45d-7cd4-492e-f820-06543018998f"
      },
      "outputs": [
        {
          "name": "stdout",
          "output_type": "stream",
          "text": [
            "models/chat-bison-001\n",
            "models/text-bison-001\n",
            "models/embedding-gecko-001\n",
            "models/gemini-1.0-pro-vision-latest\n",
            "models/gemini-pro-vision\n",
            "models/gemini-1.5-pro-latest\n",
            "models/gemini-1.5-pro-001\n",
            "models/gemini-1.5-pro-002\n",
            "models/gemini-1.5-pro\n",
            "models/gemini-1.5-flash-latest\n",
            "models/gemini-1.5-flash-001\n",
            "models/gemini-1.5-flash-001-tuning\n",
            "models/gemini-1.5-flash\n",
            "models/gemini-1.5-flash-002\n",
            "models/gemini-1.5-flash-8b\n",
            "models/gemini-1.5-flash-8b-001\n",
            "models/gemini-1.5-flash-8b-latest\n",
            "models/gemini-1.5-flash-8b-exp-0827\n",
            "models/gemini-1.5-flash-8b-exp-0924\n",
            "models/gemini-2.5-pro-exp-03-25\n",
            "models/gemini-2.5-pro-preview-03-25\n",
            "models/gemini-2.5-flash-preview-04-17\n",
            "models/gemini-2.5-flash-preview-04-17-thinking\n",
            "models/gemini-2.5-pro-preview-05-06\n",
            "models/gemini-2.0-flash-exp\n",
            "models/gemini-2.0-flash\n",
            "models/gemini-2.0-flash-001\n",
            "models/gemini-2.0-flash-exp-image-generation\n",
            "models/gemini-2.0-flash-lite-001\n",
            "models/gemini-2.0-flash-lite\n",
            "models/gemini-2.0-flash-preview-image-generation\n",
            "models/gemini-2.0-flash-lite-preview-02-05\n",
            "models/gemini-2.0-flash-lite-preview\n",
            "models/gemini-2.0-pro-exp\n",
            "models/gemini-2.0-pro-exp-02-05\n",
            "models/gemini-exp-1206\n",
            "models/gemini-2.0-flash-thinking-exp-01-21\n",
            "models/gemini-2.0-flash-thinking-exp\n",
            "models/gemini-2.0-flash-thinking-exp-1219\n",
            "models/learnlm-2.0-flash-experimental\n",
            "models/gemma-3-1b-it\n",
            "models/gemma-3-4b-it\n",
            "models/gemma-3-12b-it\n",
            "models/gemma-3-27b-it\n",
            "models/embedding-001\n",
            "models/text-embedding-004\n",
            "models/gemini-embedding-exp-03-07\n",
            "models/gemini-embedding-exp\n",
            "models/aqa\n",
            "models/imagen-3.0-generate-002\n",
            "models/gemini-2.0-flash-live-001\n"
          ]
        }
      ],
      "source": [
        "for modelos in client.models.list():\n",
        "  print(modelos.name)"
      ]
    },
    {
      "cell_type": "code",
      "execution_count": 22,
      "metadata": {
        "id": "-c2GDUHMqqPK"
      },
      "outputs": [],
      "source": [
        "modelo = \"gemini-2.0-flash\"\n",
        "resposta = client.models.generate_content(model = modelo, contents=\"Qual capital da Bahia, Brasil?\")"
      ]
    },
    {
      "cell_type": "code",
      "execution_count": 20,
      "metadata": {
        "colab": {
          "base_uri": "https://localhost:8080/"
        },
        "id": "d9_R0wBht9jB",
        "outputId": "595c9ad7-c069-4e93-c499-d0a94dc5c6d1"
      },
      "outputs": [
        {
          "name": "stdout",
          "output_type": "stream",
          "text": [
            "Salvador.\n",
            "\n"
          ]
        }
      ],
      "source": [
        "print(resposta.text)"
      ]
    },
    {
      "cell_type": "code",
      "execution_count": 32,
      "metadata": {
        "colab": {
          "base_uri": "https://localhost:8080/"
        },
        "id": "BPLSU-yH5-7P",
        "outputId": "f6d90e1d-1209-49ae-bc64-d0ad65115b4f"
      },
      "outputs": [
        {
          "name": "stdout",
          "output_type": "stream",
          "text": [
            "Olá! Tudo bem, obrigado por perguntar. Em que posso ajudar?\n",
            "\n"
          ]
        }
      ],
      "source": [
        "chat = client.chats.create(model = modelo)\n",
        "resposta = chat.send_message(\"Voce é um assistente pessoal responda de forma sucinta. Olá, tudo bem?\")\n",
        "print(resposta.text)"
      ]
    },
    {
      "cell_type": "code",
      "execution_count": 34,
      "metadata": {
        "colab": {
          "base_uri": "https://localhost:8080/"
        },
        "id": "aexzBcpL8qWX",
        "outputId": "853ec9aa-f5c0-4d05-8bd2-570048825902"
      },
      "outputs": [
        {
          "name": "stdout",
          "output_type": "stream",
          "text": [
            "Olá! Tudo bem por aqui, obrigado por perguntar. Em que posso ajudar?\n",
            "\n"
          ]
        }
      ],
      "source": [
        "from google.genai import types\n",
        "chat_config = types.GenerateContentConfig(\n",
        "    system_instruction = \"Voce é um assistente pessoal responda de forma sucinta.\",\n",
        ")"
      ]
    },
    {
      "cell_type": "code",
      "execution_count": 35,
      "metadata": {
        "colab": {
          "base_uri": "https://localhost:8080/"
        },
        "id": "JyL2nzkK_fn2",
        "outputId": "2048f436-24bb-4790-87dd-224ef5285e8c"
      },
      "outputs": [
        {
          "name": "stdout",
          "output_type": "stream",
          "text": [
            "Salvador é uma cidade vibrante no Brasil, conhecida pela sua rica história, arquitetura colonial, música animada (axé e samba-reggae), culinária deliciosa (acarajé e moqueca) e um forte legado da cultura afro-brasileira. É um destino turístico popular com um carnaval famoso e belas praias.\n",
            "\n"
          ]
        }
      ],
      "source": [
        "chat = client.chats.create(model = modelo, config = chat_config)\n",
        "resposta = chat.send_message(\"Fale sobre Salvador?\")\n",
        "print(resposta.text)"
      ]
    },
    {
      "cell_type": "code",
      "execution_count": 39,
      "metadata": {
        "colab": {
          "base_uri": "https://localhost:8080/"
        },
        "id": "HlwKFYkQCqV6",
        "outputId": "123cf392-24ea-4a04-8165-72a77cdc377a"
      },
      "outputs": [
        {
          "data": {
            "text/plain": [
              "[UserContent(parts=[Part(video_metadata=None, thought=None, code_execution_result=None, executable_code=None, file_data=None, function_call=None, function_response=None, inline_data=None, text='Fale sobre Salvador?')], role='user'),\n",
              " Content(parts=[Part(video_metadata=None, thought=None, code_execution_result=None, executable_code=None, file_data=None, function_call=None, function_response=None, inline_data=None, text='Salvador é uma cidade vibrante no Brasil, conhecida pela sua rica história, arquitetura colonial, música animada (axé e samba-reggae), culinária deliciosa (acarajé e moqueca) e um forte legado da cultura afro-brasileira. É um destino turístico popular com um carnaval famoso e belas praias.\\n')], role='model'),\n",
              " UserContent(parts=[Part(video_metadata=None, thought=None, code_execution_result=None, executable_code=None, file_data=None, function_call=None, function_response=None, inline_data=None, text='Quem descobriu o Brasil?')], role='user'),\n",
              " Content(parts=[Part(video_metadata=None, thought=None, code_execution_result=None, executable_code=None, file_data=None, function_call=None, function_response=None, inline_data=None, text='Pedro Álvares Cabral.\\n')], role='model'),\n",
              " UserContent(parts=[Part(video_metadata=None, thought=None, code_execution_result=None, executable_code=None, file_data=None, function_call=None, function_response=None, inline_data=None, text='fim')], role='user'),\n",
              " Content(parts=[Part(video_metadata=None, thought=None, code_execution_result=None, executable_code=None, file_data=None, function_call=None, function_response=None, inline_data=None, text='Até a próxima! 😊\\n')], role='model'),\n",
              " UserContent(parts=[Part(video_metadata=None, thought=None, code_execution_result=None, executable_code=None, file_data=None, function_call=None, function_response=None, inline_data=None, text='fim')], role='user'),\n",
              " Content(parts=[Part(video_metadata=None, thought=None, code_execution_result=None, executable_code=None, file_data=None, function_call=None, function_response=None, inline_data=None, text='Tchau! 👋\\n')], role='model')]"
            ]
          },
          "execution_count": 39,
          "metadata": {},
          "output_type": "execute_result"
        }
      ],
      "source": [
        "chat.get_history()"
      ]
    },
    {
      "cell_type": "code",
      "execution_count": 43,
      "metadata": {
        "colab": {
          "base_uri": "https://localhost:8080/"
        },
        "id": "jGxCl5mHBCvC",
        "outputId": "672f9f7b-705f-45bd-ef91-fa1f23f35eda"
      },
      "outputs": [
        {
          "name": "stdout",
          "output_type": "stream",
          "text": [
            "Esperando a pergunta: Quem descobriu o BraSIL?\n",
            "Resposta:  Pedro Álvares Cabral.\n",
            "\n",
            "\n",
            "Esperando a pergunta ou escreva 'fim' para terminar: FIM\n",
            "Resposta:  Ok, até mais!\n",
            "\n",
            "\n",
            "Esperando a pergunta ou escreva 'fim' para terminar: fim\n"
          ]
        }
      ],
      "source": [
        "prompt = input(\"Esperando a pergunta: \")\n",
        "\n",
        "while prompt != \"fim\":\n",
        "  resposta = chat.send_message(prompt)\n",
        "  print(\"Resposta: \", resposta.text)\n",
        "  prompt = input(\"\\nEsperando a pergunta ou escreva 'fim' para terminar: \")"
      ]
    },
    {
      "cell_type": "code",
      "execution_count": 54,
      "metadata": {
        "colab": {
          "base_uri": "https://localhost:8080/"
        },
        "id": "pbP6syZoDKlk",
        "outputId": "4199e873-cad0-4ec3-e606-c487e0069a48"
      },
      "outputs": [
        {
          "name": "stdout",
          "output_type": "stream",
          "text": [
            "Ah, Salvador, aquela cidade onde o tempo parece ter parado nos anos 90 e o calor é tão intenso que você pode fritar um ovo no asfalto. Mas ei, pelo menos a culinária é boa, se você gosta de dendê escorrendo por todos os lados. E não se esqueça do Pelourinho, perfeito para fotos clichês e vendedores insistentes tentando te vender lembrancinhas que você nunca vai usar. Mas vá, divirta-se!\n",
            "\n"
          ]
        }
      ],
      "source": [
        "chat_config2 = types.GenerateContentConfig(\n",
        "    system_instruction = \"Voce é um assistente pessoal que sempre responde de forma sarcástica.\",\n",
        ")\n",
        "chat2 = client.chats.create(model = modelo, config = chat_config2)\n",
        "resposta = chat2.send_message(\"Fale sobre Salvador?\")\n",
        "print(resposta.text)"
      ]
    },
    {
      "cell_type": "code",
      "execution_count": 46,
      "metadata": {
        "id": "6Bviuv4cFUxp"
      },
      "outputs": [],
      "source": []
    }
  ],
  "metadata": {
    "colab": {
      "authorship_tag": "ABX9TyNFSq7jHhTh4y/06jA3MWHL",
      "include_colab_link": true,
      "provenance": []
    },
    "kernelspec": {
      "display_name": "Python 3",
      "name": "python3"
    },
    "language_info": {
      "name": "python",
      "version": "3.13.3"
    }
  },
  "nbformat": 4,
  "nbformat_minor": 0
}
