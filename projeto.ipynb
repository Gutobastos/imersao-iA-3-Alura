{
  "cells": [
    {
      "cell_type": "markdown",
      "metadata": {
        "colab_type": "text",
        "id": "view-in-github"
      },
      "source": [
        "<a href=\"https://colab.research.google.com/github/Gutobastos/imersao-iA-3-Alura/blob/main/projeto.ipynb\" target=\"_parent\"><img src=\"https://colab.research.google.com/assets/colab-badge.svg\" alt=\"Open In Colab\"/></a>"
      ]
    },
    {
      "cell_type": "code",
      "execution_count": null,
      "metadata": {
        "colab": {
          "base_uri": "https://localhost:8080/"
        },
        "id": "TS18fEFmYu_P",
        "outputId": "3fe2bc3c-f119-4d35-ae9a-5b8c3f8daa80"
      },
      "outputs": [],
      "source": [
        "%pip -q install google-genai\n",
        "%pip -q install google-adk"
      ]
    },
    {
      "cell_type": "code",
      "execution_count": 2,
      "metadata": {},
      "outputs": [
        {
          "name": "stdout",
          "output_type": "stream",
          "text": [
            "Chave da API do Google encontrada nas variáveis de ambiente do seu PC.\n",
            "\n"
          ]
        }
      ],
      "source": [
        "import os\n",
        "\n",
        "# E necessário inserir a chave na variável do seu ambiente com sua GOOGLE_API_KEY\n",
        "google_api_key = os.environ.get('GOOGLE_API_KEY')\n",
        "if google_api_key:\n",
        "    print(\"Chave da API do Google encontrada nas variáveis de ambiente do seu PC.\\n\")\n",
        "else:\n",
        "    print(\"Chave da API do Google não encontrada nas variáveis de ambiente e tentaremos pelo GOOGLE COLAB.\\n\")\n",
        "    from google.colab import userdata\n",
        "    os.environ[\"GOOGLE_API_KEY\"] = userdata.get('GOOGLE_API_KEY')"
      ]
    },
    {
      "cell_type": "code",
      "execution_count": 3,
      "metadata": {},
      "outputs": [],
      "source": [
        "from google import genai\n",
        "client = genai.Client()\n",
        "modelo = \"gemini-2.0-flash\""
      ]
    },
    {
      "cell_type": "code",
      "execution_count": 4,
      "metadata": {},
      "outputs": [],
      "source": [
        "from google.adk.agents import Agent\n",
        "from google.adk.runners import Runner\n",
        "from google.adk.sessions import InMemorySessionService\n",
        "from google.adk.tools import google_search\n",
        "from google.genai import types\n",
        "from datetime import date\n",
        "import textwrap\n",
        "from IPython.display import display, Markdown\n",
        "import requests\n",
        "import warnings\n",
        "\n",
        "warnings.filterwarnings(\"ignore\")"
      ]
    },
    {
      "cell_type": "code",
      "execution_count": 5,
      "metadata": {},
      "outputs": [],
      "source": [
        "def call_agent(agent: Agent, message_text: str) -> str:\n",
        "    session_service = InMemorySessionService()\n",
        "    session = session_service.create_session(app_name=agent.name, user_id=\"user1\", session_id=\"session1\")\n",
        "    runner = Runner(agent=agent, app_name=agent.name, session_service=session_service)\n",
        "    content = types.Content(role=\"user\", parts=[types.Part(text=message_text)])\n",
        "\n",
        "    final_response = \"\"\n",
        "    for event in runner.run(user_id=\"user1\", session_id=\"session1\", new_message=content):\n",
        "        if event.is_final_response():\n",
        "          for part in event.content.parts:\n",
        "            if part.text is not None:\n",
        "              final_response += part.text\n",
        "              final_response += \"\\n\"\n",
        "    return final_response"
      ]
    },
    {
      "cell_type": "code",
      "execution_count": 6,
      "metadata": {},
      "outputs": [],
      "source": [
        "def to_markdown(text):\n",
        "  text = text.replace('•', '  *')\n",
        "  return Markdown(textwrap.indent(text, '> ', predicate=lambda _: True))"
      ]
    },
    {
      "cell_type": "code",
      "execution_count": 7,
      "metadata": {},
      "outputs": [],
      "source": [
        "##########################################\n",
        "# --- Agente 1: BUSCADOR --- #\n",
        "##########################################\n",
        "def agente_buscador(topico, data_de_hoje):\n",
        "  buscador = Agent(\n",
        "      name = \"agente_buscador\",\n",
        "      model = \"gemini-2.0-flash\",\n",
        "      description = \"Agente que busca informações no Google\",\n",
        "      tools = [google_search],\n",
        "      instruction = \"\"\"\n",
        "      Você é um assistente de pesquisa de móveis ou produtos e deve usar a ferramenta de \n",
        "      busca do Google (google_search), procure pelo móvel e que tenha preço e sejam o mais barato,\n",
        "      faça uma planilha de preços no final. \n",
        "      Que tenha garantia e boa referência de reputação e avaliação a partir da data de hoje.\n",
        "      Somente guarde resultados que possuem preços.\n",
        "      \"\"\"\n",
        "  )\n",
        "  entrada_do_agente_buscador = f\"Tópico: {topico}\\nData de hoje: {data_de_hoje}\"\n",
        "\n",
        "  moveis = call_agent(buscador, entrada_do_agente_buscador)\n",
        "  return moveis"
      ]
    },
    {
      "cell_type": "code",
      "execution_count": 8,
      "metadata": {},
      "outputs": [],
      "source": [
        "################################################\n",
        "# --- Agente 2: ORÇAMENTO --- #\n",
        "################################################\n",
        "def agente_cotador(topico, moveis_buscados):\n",
        "    planejador = Agent(\n",
        "        name=\"agente_cotacao\",\n",
        "        model=\"gemini-2.0-flash\",\n",
        "        description=\"Agente cotação de preços\",\n",
        "        tools=[google_search],\n",
        "        instruction=\"\"\"\n",
        "        Você é um filtro de pesquisa, especialista em encontrar o móvel ou produtos com melhor custo \n",
        "        benefícioa partir da data de hoje. Você deve usar a feramenta de busca do Google (google_search) e dar \n",
        "        prioridade preço mais baixo.\n",
        "        Escolha de 1 até 5 móveis ou produtos que tenham preços e com formas de pagamentos se houver.\n",
        "        \"\"\"\n",
        "    )\n",
        "    entrada_do_agente_cotador = f\"Tópico:{topico}\\nLançamentos buscados: {moveis_buscados}\"\n",
        "\n",
        "    moveis_do_post = call_agent(planejador, entrada_do_agente_cotador)\n",
        "    return moveis_do_post"
      ]
    },
    {
      "cell_type": "code",
      "execution_count": 9,
      "metadata": {},
      "outputs": [],
      "source": [
        "######################################\n",
        "# --- Agente 3: AVALIADOR --- #\n",
        "######################################\n",
        "def agente_avaliador(topico, avaliacao_de_post):\n",
        "    redator = Agent(\n",
        "        name=\"agente_avaliador\",\n",
        "        model=\"gemini-2.5-pro-preview-03-25\",\n",
        "        description=\"Agente avaliador de posts\",\n",
        "        instruction=\"\"\"\n",
        "            Você é um avaliador de controle de qualidade, você deve priorizar \n",
        "            as médias de avaliações, você deve usar a feramenta de busca do Google (google_search).\n",
        "            Guarde os preços e inclua na tabela.\n",
        "            Escolha até 5 produtos que tenha a melhor média de avaliação e faça a planilha.\n",
        "            \"\"\"\n",
        "    )\n",
        "    entrada_do_agente_avaliador = f\"Tópico: {topico}\\nPlano de post: {avaliacao_de_post}\"\n",
        "\n",
        "    rascunho = call_agent(redator, entrada_do_agente_avaliador)\n",
        "    return rascunho"
      ]
    },
    {
      "cell_type": "code",
      "execution_count": 10,
      "metadata": {},
      "outputs": [],
      "source": [
        "##########################################\n",
        "# --- Agente 4: RESULTADO --- #\n",
        "##########################################\n",
        "def agente_retorno(topico, rascunho_gerado):\n",
        "    revisor = Agent(\n",
        "        name=\"agente_revisor\",\n",
        "        model=\"gemini-2.5-pro-preview-03-25\",\n",
        "        description=\"Agente revisor de post para redes sociais.\",\n",
        "        instruction=\"\"\"\n",
        "            Você é um vendedor e dará informação da mais completa sobre o produto, \n",
        "            você é especializado vendas varejista, com foco no melhor móvel, com melhor custo, benefício e com menor prazo de entrega se tiver.\n",
        "            Por ter um público, entre 20 e 50 anos, use um tom de escrita adequado, respeitoso e confiante.\n",
        "            Revise o rascunho de post de Instagram abaixo sobre o tópico indicado, verificando clareza, concisão, correção e tom.\n",
        "            Se o rascunho avaliado, se estiver bom, responda apenas 'O rascunho está ótimo e pronto para publicar!'.\n",
        "            Caso haja problemas, aponte-os e sugira melhorias.\n",
        "            Mostre uma tabelha com apenas 5 ítens e que tenham preço em ordem crescente, com o nome das empresas e suas avaliações positivas.\n",
        "            Faça hiperlinks de cada produto da pesquisa inserindo na planilha.\n",
        "            \"\"\"\n",
        "    )\n",
        "    entrada_do_agente_retorno = f\"Tópico: {topico}\\nRascunho: {rascunho_gerado}\"\n",
        "\n",
        "    texto_final = call_agent(revisor, entrada_do_agente_retorno)\n",
        "    return texto_final"
      ]
    },
    {
      "cell_type": "code",
      "execution_count": 12,
      "metadata": {},
      "outputs": [
        {
          "name": "stdout",
          "output_type": "stream",
          "text": [
            "📜 Iniciando o Sistema de Pesquisa de Preços de móveis ou produtos com avaliação de qualidade com 4 Agentes IA do Google 📜\n",
            "\n",
            "O programa foi encerrado com sucesso.\n"
          ]
        }
      ],
      "source": [
        "data_de_hoje = date.today().strftime(\"%d/%m/%Y\")\n",
        "loop = \"play\"\n",
        "print(\"📜 Iniciando o Sistema de Pesquisa de Preços de móveis ou produtos com avaliação de qualidade com 4 Agentes IA do Google 📜\\n\")\n",
        "while loop != \"sair\" or topico != \"SAIR\" or topico != \"Sair\":\n",
        "  topico = input(\"🔍 Por favor, digite o tipo do Móvel ou Produto desejado sobre o qual você quer encontrar ou comprar 🔍: \")\n",
        "  loop = topico\n",
        "  if topico == \"sair\" or topico == \"SAIR\" or topico == \"Sair\":\n",
        "    print(\"O programa foi encerrado com sucesso.\")\n",
        "    break\n",
        "  if not topico:\n",
        "    print(\"🤔 Você não digitou um tipo de móvel ou produto. Por favor, tente novamente ou digite SAIR para finalizar o programa. 🤔\\n\")\n",
        "  else :\n",
        "    print(f\"💲 Pronto, vamos buscar pelo seu móvel ou produto e exibir o orçamento 💲: {topico}\" )\n",
        "    moveis_buscados = agente_buscador(topico, data_de_hoje)\n",
        "    cotador_de_custos = agente_buscador (topico, moveis_buscados)\n",
        "    avaliador_de_empresas = agente_buscador (topico, cotador_de_custos)\n",
        "    resultado_do_post = agente_buscador (topico, avaliador_de_empresas)\n",
        "    print(\"\\n----------------- RESULTADO DOS AGENTES -----------------\\n\")\n",
        "    display(to_markdown(resultado_do_post))\n",
        "    print(\"----------------------------------------------------------------\")"
      ]
    }
  ],
  "metadata": {
    "colab": {
      "authorship_tag": "ABX9TyNFSq7jHhTh4y/06jA3MWHL",
      "include_colab_link": true,
      "provenance": []
    },
    "kernelspec": {
      "display_name": "Python 3",
      "name": "python3"
    },
    "language_info": {
      "codemirror_mode": {
        "name": "ipython",
        "version": 3
      },
      "file_extension": ".py",
      "mimetype": "text/x-python",
      "name": "python",
      "nbconvert_exporter": "python",
      "pygments_lexer": "ipython3",
      "version": "3.13.3"
    }
  },
  "nbformat": 4,
  "nbformat_minor": 0
}
