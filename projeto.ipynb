{
  "cells": [
    {
      "cell_type": "markdown",
      "metadata": {
        "colab_type": "text",
        "id": "view-in-github"
      },
      "source": [
        "<a href=\"https://colab.research.google.com/github/Gutobastos/imersao-iA-3-Alura/blob/main/projeto.ipynb\" target=\"_parent\"><img src=\"https://colab.research.google.com/assets/colab-badge.svg\" alt=\"Open In Colab\"/></a>"
      ]
    },
    {
      "cell_type": "code",
      "execution_count": null,
      "metadata": {
        "colab": {
          "base_uri": "https://localhost:8080/"
        },
        "id": "TS18fEFmYu_P",
        "outputId": "3fe2bc3c-f119-4d35-ae9a-5b8c3f8daa80"
      },
      "outputs": [],
      "source": [
        "%pip install google-genai\n",
        "\n",
        "import os\n",
        "\n",
        "# E necessário criar dados na variável do seu ambiente com sua GOOGLE_API_KEY\n",
        "google_api_key = os.environ.get('GOOGLE_API_KEY')\n",
        "\n",
        "if google_api_key:\n",
        "    print(\"Chave da API do Google encontrada nas variáveis de ambiente do seu PC.\\n\")\n",
        "else:\n",
        "    print(\"Chave da API do Google não encontrada nas variáveis de ambiente.\\n\")\n",
        "\n",
        "from google import genai\n",
        "client = genai.Client()\n",
        "modelo = \"gemini-2.0-flash\"\n",
        "\n",
        "from google.genai import types\n",
        "chat_config = types.GenerateContentConfig(\n",
        "    system_instruction = \"Voce é um assistente pessoal sempre responda de forma educada e sucinta.\",\n",
        ")\n",
        "\n",
        "prompt = input(\"Esperando a pergunta: \")\n",
        "while prompt != \"fim\":\n",
        "  chat = client.chats.create(model = modelo, config = chat_config)\n",
        "  resposta = chat.send_message(prompt)\n",
        "  print(\"Resposta: \", resposta.text, \"\\n\")\n",
        "  prompt = input(\"Esperando a pergunta ou escreva 'fim' para terminar: \")\n",
        "\n",
        "print (\"Fim do programa!\")\n"
      ]
    }
  ],
  "metadata": {
    "colab": {
      "authorship_tag": "ABX9TyNFSq7jHhTh4y/06jA3MWHL",
      "include_colab_link": true,
      "provenance": []
    },
    "kernelspec": {
      "display_name": "Python 3",
      "name": "python3"
    },
    "language_info": {
      "codemirror_mode": {
        "name": "ipython",
        "version": 3
      },
      "file_extension": ".py",
      "mimetype": "text/x-python",
      "name": "python",
      "nbconvert_exporter": "python",
      "pygments_lexer": "ipython3",
      "version": "3.13.3"
    }
  },
  "nbformat": 4,
  "nbformat_minor": 0
}
